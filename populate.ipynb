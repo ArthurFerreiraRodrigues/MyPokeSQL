{
 "cells": [
  {
   "cell_type": "code",
   "execution_count": 54,
   "metadata": {},
   "outputs": [],
   "source": [
    "import os\n",
    "from mysql.connector import connection\n",
    "import pandas as pd"
   ]
  },
  {
   "cell_type": "code",
   "execution_count": 55,
   "metadata": {},
   "outputs": [],
   "source": [
    "host = os.getenv('MYSQL_HOST')\n",
    "port = os.getenv('MYSQL_PORT')\n",
    "user = os.getenv('MYSQL_USER')\n",
    "password = os.getenv('MYSQL_PASSWORD')\n",
    "database = os.getenv('MYSQL_DATABASE')\n",
    "\n",
    "conn = connection.MySQLConnection(\n",
    "    host=host,\n",
    "    port=int(port),\n",
    "    user=user,\n",
    "    passwd=password,\n",
    "    db=database)"
   ]
  },
  {
   "cell_type": "code",
   "execution_count": 56,
   "metadata": {},
   "outputs": [],
   "source": [
    "df = pd.read_csv('./scripts/Pokemon.csv')\n",
    "\n",
    "def insert(table, columns, values):\n",
    "    query = \"INSERT INTO %s (%s) VALUES\"\n",
    "    query = query % (table, columns)\n",
    "    \n",
    "    for value in values:\n",
    "        value = str(value).replace('[', '').replace(']', '').replace('nan', 'NULL')\n",
    "        query += \" (%s),\" % value\n",
    "    \n",
    "    \n",
    "    query = query[:-1] + \";\"\n",
    "    file = open('insert.sql', 'w')\n",
    "    file.write(query)\n",
    "    cursor = conn.cursor()\n",
    "    cursor.execute(query)\n",
    "    conn.commit()\n",
    "    cursor.close()\n",
    "\n",
    "columns = str(df.columns.to_list()).replace('[', '').replace(']', '').replace('\\'', '')\n",
    "values = df.values.tolist()\n",
    "insert('pk_mon', columns, values)"
   ]
  }
 ],
 "metadata": {
  "kernelspec": {
   "display_name": "base",
   "language": "python",
   "name": "python3"
  },
  "language_info": {
   "codemirror_mode": {
    "name": "ipython",
    "version": 3
   },
   "file_extension": ".py",
   "mimetype": "text/x-python",
   "name": "python",
   "nbconvert_exporter": "python",
   "pygments_lexer": "ipython3",
   "version": "3.11.7"
  }
 },
 "nbformat": 4,
 "nbformat_minor": 2
}
